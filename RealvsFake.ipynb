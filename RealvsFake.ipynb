{
 "cells": [
  {
   "cell_type": "code",
   "execution_count": 4,
   "id": "6b7935c6-47aa-4acd-b9a5-f712540b6e54",
   "metadata": {},
   "outputs": [
    {
     "name": "stdout",
     "output_type": "stream",
     "text": [
      "Hello WOrld\n",
      "hhhhhhh\n"
     ]
    }
   ],
   "source": [
    "print(\"Hello WOrld\")\n",
    "i = \"h\"\n",
    "print(i*7)"
   ]
  },
  {
   "cell_type": "code",
   "execution_count": null,
   "id": "008199b1-219d-43ff-b50e-d9b4dfc96cf6",
   "metadata": {},
   "outputs": [],
   "source": []
  },
  {
   "cell_type": "code",
   "execution_count": null,
   "id": "819ea019-26fd-4b58-b391-c98bdabbff38",
   "metadata": {},
   "outputs": [],
   "source": []
  }
 ],
 "metadata": {
  "kernelspec": {
   "display_name": "Python 3 (ipykernel)",
   "language": "python",
   "name": "python3"
  },
  "language_info": {
   "codemirror_mode": {
    "name": "ipython",
    "version": 3
   },
   "file_extension": ".py",
   "mimetype": "text/x-python",
   "name": "python",
   "nbconvert_exporter": "python",
   "pygments_lexer": "ipython3",
   "version": "3.13.1"
  }
 },
 "nbformat": 4,
 "nbformat_minor": 5
}
